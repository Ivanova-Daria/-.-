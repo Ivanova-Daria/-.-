{
  "nbformat": 4,
  "nbformat_minor": 0,
  "metadata": {
    "colab": {
      "name": "Лаба 6",
      "provenance": [],
      "authorship_tag": "ABX9TyM4JCvwFXe0E6FXKNDZbril",
      "include_colab_link": true
    },
    "kernelspec": {
      "name": "python3",
      "display_name": "Python 3"
    }
  },
  "cells": [
    {
      "cell_type": "markdown",
      "metadata": {
        "id": "view-in-github",
        "colab_type": "text"
      },
      "source": [
        "<a href=\"https://colab.research.google.com/github/Ivanova-Daria/labs/blob/main/%D0%9B%D0%B0%D0%B1%D0%B0_6.ipynb\" target=\"_parent\"><img src=\"https://colab.research.google.com/assets/colab-badge.svg\" alt=\"Open In Colab\"/></a>"
      ]
    },
    {
      "cell_type": "code",
      "metadata": {
        "id": "T-ZsejyT3AuO"
      },
      "source": [
        "# Программирование на языке высокого уровня (Python).\r\n",
        "# https://www.yuripetrov.ru/edu/python\r\n",
        "# Задание task_06_02_01.\r\n",
        "#\r\n",
        "# Выполнил: Иванова Д.Д.\r\n",
        "# Группа: АДЭУ-201\r\n",
        "\r\n",
        "def foo(a):\r\n",
        "    \"\"\"!!!\r\n",
        "\r\n",
        "    Сложность: O(N^2).\r\n",
        "    \"\"\"\r\n",
        "    for i in range(len(a), 0, -1):\r\n",
        "        for j in range(1, i):\r\n",
        "            if a[j-1] > a[j]:\r\n",
        "                a[j-1], a[j] = a[j], a[j-1]\r\n",
        "    return a\r\n",
        "\r\n",
        "\r\n",
        "a = [1, 2, 3, 4, 2, 1, 3, 4, 3, 5, -2, -2, 2, -2, 65, 2, 2]\r\n",
        "foo(a)\r\n"
      ],
      "execution_count": null,
      "outputs": []
    },
    {
      "cell_type": "code",
      "metadata": {
        "colab": {
          "base_uri": "https://localhost:8080/",
          "height": 35
        },
        "id": "9iCfSWUM4Raj",
        "outputId": "18f0245c-3e6c-42b6-d073-d640ac17d5ea"
      },
      "source": [
        "# Программирование на языке высокого уровня (Python).\r\n",
        "# https://www.yuripetrov.ru/edu/python\r\n",
        "# Задание task_06_02_02.\r\n",
        "#\r\n",
        "# Выполнил: Иванова Д.Д.\r\n",
        "# Группа: АДЭУ-201\r\n",
        "\r\n",
        "\r\n",
        "def foo(i):\r\n",
        "    \"\"\"!!!\r\n",
        "\r\n",
        "    Параметры:\r\n",
        "        - i (int): число.\r\n",
        "\r\n",
        "    Сложность: O(1).\r\n",
        "    \"\"\"\r\n",
        "    digits = \"0123456789\"\r\n",
        "    if i == 0:\r\n",
        "        return \"0\"\r\n",
        "    result = \"\"\r\n",
        "    while i > 0:\r\n",
        "        result = digits[i%10] + result\r\n",
        "        i = i // 10\r\n",
        "    return result\r\n",
        "foo(98548)"
      ],
      "execution_count": null,
      "outputs": [
        {
          "output_type": "execute_result",
          "data": {
            "application/vnd.google.colaboratory.intrinsic+json": {
              "type": "string"
            },
            "text/plain": [
              "'98548'"
            ]
          },
          "metadata": {
            "tags": []
          },
          "execution_count": 10
        }
      ]
    },
    {
      "cell_type": "code",
      "metadata": {
        "id": "IcPESjjhBIsQ"
      },
      "source": [
        "# Программирование на языке высокого уровня (Python).\r\n",
        "# https://www.yuripetrov.ru/edu/python\r\n",
        "# Задание task_06_02_03.\r\n",
        "#\r\n",
        "# Выполнил: Иванова Д.Д.\r\n",
        "# Группа: АДЭУ-201\r\n",
        "\r\n",
        "\r\n",
        "def foo(s):\r\n",
        "    \"\"\"!!!\r\n",
        "\r\n",
        "    Параметры:\r\n",
        "        - s (str): строка.\r\n",
        "\r\n",
        "    Сложность: O(N).\r\n",
        "    \"\"\"\r\n",
        "    val = 0\r\n",
        "    for c in s:\r\n",
        "        if c.isdigit():\r\n",
        "            val += int(c)\r\n",
        "    return val\r\n"
      ],
      "execution_count": null,
      "outputs": []
    },
    {
      "cell_type": "code",
      "metadata": {
        "id": "UWCeYP-eBsCC"
      },
      "source": [
        "# Программирование на языке высокого уровня (Python).\r\n",
        "# https://www.yuripetrov.ru/edu/python\r\n",
        "# Задание task_06_02_04.\r\n",
        "#\r\n",
        "# Выполнил: Иванова Д.Д.\r\n",
        "# Группа: АДЭУ-201\r\n",
        "\r\n",
        "\r\n",
        "def foo(n):\r\n",
        "    \"\"\"!!!\r\n",
        "\r\n",
        "    Параметры:\r\n",
        "        - n (int): число.\r\n",
        "\r\n",
        "    Сложность: O(N^2).\r\n",
        "    \"\"\"\r\n",
        "    res = []\r\n",
        "    for i in range(1, n + 1):\r\n",
        "        divisors = 0\r\n",
        "        j = 2\r\n",
        "        while j < i and divisors == 0:\r\n",
        "            if i % j == 0:\r\n",
        "                divisors += 1\r\n",
        "            j += 1\r\n",
        "\r\n",
        "        if divisors == 0:\r\n",
        "            res.append(i)\r\n",
        "\r\n",
        "    return res\r\n"
      ],
      "execution_count": null,
      "outputs": []
    },
    {
      "cell_type": "code",
      "metadata": {
        "id": "XbV3iwu7DPc1"
      },
      "source": [
        "# Программирование на языке высокого уровня (Python).\r\n",
        "# https://www.yuripetrov.ru/edu/python\r\n",
        "# Задание task_06_02_05.\r\n",
        "#\r\n",
        "# Выполнил: Иванова Д.Д.\r\n",
        "# Группа: АДЭУ-201\r\n",
        "\r\n",
        "\r\n",
        "def foo(nums):\r\n",
        "    \"\"\"!!!\r\n",
        "\r\n",
        "    Параметры:\r\n",
        "        - nums (list): список.\r\n",
        "\r\n",
        "    Сложность: O(N) !!!.\r\n",
        "    \"\"\"\r\n",
        "    for x in nums:\r\n",
        "        if x % 2 == 0:\r\n",
        "            return True\r\n",
        "    else:\r\n",
        "        return False\r\n"
      ],
      "execution_count": null,
      "outputs": []
    },
    {
      "cell_type": "code",
      "metadata": {
        "id": "kg6DY0viD0gi"
      },
      "source": [
        "# Программирование на языке высокого уровня (Python).\r\n",
        "# https://www.yuripetrov.ru/edu/python\r\n",
        "# Задание task_06_02_06.\r\n",
        "#\r\n",
        "# Выполнил: Иванова Д.Д.\r\n",
        "# Группа: АДЭУ-201\r\n",
        "\r\n",
        "\r\n",
        "def foo(nums):\r\n",
        "    \"\"\"!!!\r\n",
        "\r\n",
        "    Параметры:\r\n",
        "        - nums (list): список.\r\n",
        "\r\n",
        "    Сложность: O(1)!!!.\r\n",
        "    \"\"\"\r\n",
        "    return (nums[0] + nums[-1] ** 2)\r\n"
      ],
      "execution_count": null,
      "outputs": []
    },
    {
      "cell_type": "code",
      "metadata": {
        "colab": {
          "base_uri": "https://localhost:8080/"
        },
        "id": "M080MK1vEGtG",
        "outputId": "415d109d-7161-4fd3-96b2-f4e51de1de93"
      },
      "source": [
        "# Программирование на языке высокого уровня (Python).\r\n",
        "# https://www.yuripetrov.ru/edu/python\r\n",
        "# Задание task_06_02_07.\r\n",
        "#\r\n",
        "# Выполнил: Иванова Д.Д.\r\n",
        "# Группа: АДЭУ-201\r\n",
        "\r\n",
        "\r\n",
        "def foo(low, high):\r\n",
        "    \"\"\"!!!\r\n",
        "\r\n",
        "    Параметры:\r\n",
        "        - low (int): нижняя граница;\r\n",
        "        - high (int): верхняя граница.\r\n",
        "\r\n",
        "    Сложность: !!!.\r\n",
        "    \"\"\"\r\n",
        "    guessing = True\r\n",
        "    while guessing:\r\n",
        "        guess = (low + high) // 2\r\n",
        "        print(\"Загаданное число {0}?\".format(guess))\r\n",
        "        pointer = input(\r\n",
        "            \"Введите '+', если Ваше число меньше.\\n\"\r\n",
        "            \"Введите '-' если Ваше число больше.\\n\"\r\n",
        "            \"Введите '=', если я угадал.\\n\").lower()\r\n",
        "        if pointer == \"+\":\r\n",
        "            high = guess\r\n",
        "        elif pointer == \"-\":\r\n",
        "            low = guess\r\n",
        "        elif pointer == \"=\":\r\n",
        "            guessing = False\r\n",
        "        else:\r\n",
        "            print(\"Введите '+', '-' или '='.\")\r\n",
        "\r\n",
        "    return guess\r\n",
        "\r\n",
        "\r\n",
        "# ЗАКОММЕНТИРУЙТЕ этот код перед запуском проверки\r\n",
        "low, high = 0, 100\r\n",
        "print(\"Пожалуйста, загадайте число от {0} до {1}!\".format(low, high))\r\n",
        "guess = foo(low, high)\r\n",
        "print(\"Игра окончена, Вы загадали число: {0}.\".format(guess))\r\n"
      ],
      "execution_count": null,
      "outputs": [
        {
          "output_type": "stream",
          "text": [
            "Пожалуйста, загадайте число от 0 до 100!\n",
            "Загаданное число 50?\n",
            "Введите '+', если Ваше число меньше.\n",
            "Введите '-' если Ваше число больше.\n",
            "Введите '=', если я угадал.\n",
            "+\n",
            "Загаданное число 25?\n",
            "Введите '+', если Ваше число меньше.\n",
            "Введите '-' если Ваше число больше.\n",
            "Введите '=', если я угадал.\n",
            "+\n",
            "Загаданное число 12?\n",
            "Введите '+', если Ваше число меньше.\n",
            "Введите '-' если Ваше число больше.\n",
            "Введите '=', если я угадал.\n",
            "+\n",
            "Загаданное число 6?\n",
            "Введите '+', если Ваше число меньше.\n",
            "Введите '-' если Ваше число больше.\n",
            "Введите '=', если я угадал.\n",
            "-\n",
            "Загаданное число 9?\n",
            "Введите '+', если Ваше число меньше.\n",
            "Введите '-' если Ваше число больше.\n",
            "Введите '=', если я угадал.\n",
            "-\n",
            "Загаданное число 10?\n",
            "Введите '+', если Ваше число меньше.\n",
            "Введите '-' если Ваше число больше.\n",
            "Введите '=', если я угадал.\n",
            "-\n",
            "Загаданное число 11?\n",
            "Введите '+', если Ваше число меньше.\n",
            "Введите '-' если Ваше число больше.\n",
            "Введите '=', если я угадал.\n",
            "=\n",
            "Игра окончена, Вы загадали число: 11.\n"
          ],
          "name": "stdout"
        }
      ]
    },
    {
      "cell_type": "code",
      "metadata": {
        "colab": {
          "base_uri": "https://localhost:8080/"
        },
        "id": "9FLU3hiDGhWu",
        "outputId": "d940ed60-8f6d-4ad4-f04e-416c04285626"
      },
      "source": [
        "\r\n",
        "# Программирование на языке высокого уровня (Python).\r\n",
        "# https://www.yuripetrov.ru/edu/python\r\n",
        "# Задание task_06_02_08.\r\n",
        "#\r\n",
        "# Выполнил: Иванова Д.Д.\r\n",
        "# Группа: АДЭУ-201\r\n",
        "\r\n",
        "data = [6,8,0,7,8,6,7]\r\n",
        "\r\n",
        "def maxmin1(data):\r\n",
        "  data.sort()\r\n",
        "  return data[0], data[-1]\r\n",
        "maxmin1(data)\r\n",
        "\r\n",
        "#Сложность: O(N Log N).\r\n",
        "\r\n",
        "\r\n",
        "def maxmin2(data):\r\n",
        "  return max(data), min(data)\r\n",
        "maxmin2(data)\r\n",
        "#Сложность: O(N).\r\n",
        "\r\n",
        "  \r\n",
        "\r\n",
        "\r\n"
      ],
      "execution_count": null,
      "outputs": [
        {
          "output_type": "execute_result",
          "data": {
            "text/plain": [
              "(8, 0)"
            ]
          },
          "metadata": {
            "tags": []
          },
          "execution_count": 72
        }
      ]
    },
    {
      "cell_type": "markdown",
      "metadata": {
        "id": "jE64S_8X3IpY"
      },
      "source": [
        ""
      ]
    }
  ]
}