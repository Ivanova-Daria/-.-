{
  "nbformat": 4,
  "nbformat_minor": 0,
  "metadata": {
    "colab": {
      "name": "лаба5.ipynb",
      "provenance": [],
      "authorship_tag": "ABX9TyM8lSFxOj7AIH18Ec6/Nt8D",
      "include_colab_link": true
    },
    "kernelspec": {
      "display_name": "Python 3",
      "name": "python3"
    }
  },
  "cells": [
    {
      "cell_type": "markdown",
      "metadata": {
        "id": "view-in-github",
        "colab_type": "text"
      },
      "source": [
        "<a href=\"https://colab.research.google.com/github/Ivanova-Daria/-.-/blob/main/%D0%BB%D0%B0%D0%B1%D0%B05.ipynb\" target=\"_parent\"><img src=\"https://colab.research.google.com/assets/colab-badge.svg\" alt=\"Open In Colab\"/></a>"
      ]
    },
    {
      "cell_type": "markdown",
      "metadata": {
        "id": "rE19ySu2BsOE"
      },
      "source": [
        "# № 5.2.1\n",
        "\n",
        "Определите значение z=sgn(x)+y2sgn(y)−|x|−−√, где sgn - сигнум-функция, а x и y - вещественные числа:\n",
        "\n",
        "sgn(a)=⎧⎩⎨1,0,−1,a>0,a=0,a<0\n"
      ]
    },
    {
      "cell_type": "code",
      "metadata": {
        "id": "nYYCu-TPoysH",
        "outputId": "5ce1fa9e-7148-4b87-8d3a-3c37dd7472e8",
        "colab": {
          "base_uri": "https://localhost:8080/",
          "height": 69
        }
      },
      "source": [
        "# Программирование на языке высокого уровня (Python).\n",
        "# https://www.yuripetrov.ru/edu/python\n",
        "# Задание task_05_02_01.\n",
        "#\n",
        "# Выполнил: Иванова Д.Д.\n",
        "# Группа: АДЭУ-201\n",
        "\n",
        "x = int(input(\"x=\"))# Удалите комментарий и допишите код\n",
        "y = int(input(\"y=\"))\n",
        "\n",
        "if x > 0:\n",
        "    a = 1\n",
        "elif x == 0:\n",
        "  a = 0\n",
        "else:\n",
        "  a = -1\n",
        "if y > 0:\n",
        "  b = 1\n",
        "elif y == 0:\n",
        "  b = 0\n",
        "else:\n",
        "  b = -1\n",
        "    \n",
        "    # Удалите комментарий и допишите код\n",
        "\n",
        "# Удалите комментарий и допишите код\n",
        "import math\n",
        "z = float((a+y**2)/(b - math.fabs(x)**0.5))\n",
        "\n",
        "print(\"Ответ:\", round(z, 2))\n",
        "\n",
        "# --------------\n",
        "# Пример вывода:\n",
        "#\n",
        "# Введите x: -9\n",
        "# Введите y: 0\n",
        "# Ответ: 0.33\n",
        "\n"
      ],
      "execution_count": null,
      "outputs": [
        {
          "output_type": "stream",
          "text": [
            "x=-9\n",
            "y=0\n",
            "Ответ: 0.33\n"
          ],
          "name": "stdout"
        }
      ]
    },
    {
      "cell_type": "markdown",
      "metadata": {
        "id": "34RSDNU8sY8a"
      },
      "source": [
        "# № 5.2.2\n",
        "Дан список температурных изменений в течение дня (целые числа). Известно, что измеряющее устройство иногда сбоит и записывает отсутствие температуры (значение None).\n",
        "Выведите среднюю температуру за наблюдаемый промежуток времени, предварительно очистив список от неопределенных значений. Гарантируется, что хотя бы одно определенное значение в списке есть."
      ]
    },
    {
      "cell_type": "code",
      "metadata": {
        "id": "pkfASwh5UnR9",
        "outputId": "edaf1e4e-d5e1-4daf-9594-254c2e87f657",
        "colab": {
          "base_uri": "https://localhost:8080/",
          "height": 104
        }
      },
      "source": [
        " # Программирование на языке высокого уровня (Python).\n",
        "# https://www.yuripetrov.ru/edu/python\n",
        "# Задание task_05_02_02.\n",
        "#\n",
        "# Выполнил: Иванова Д.Д.\n",
        "# Группа: АДЭУ-201\n",
        " \n",
        " \n",
        "def avg(data):\n",
        "  a2 = [int(item) for item in a]\n",
        "  print(\"Средняя температура:\",'{:.2f}'.format(sum(a2)/len(a2)))\n",
        "    # Удалите комментарий и допишите код\n",
        "def cleared_data(data):\n",
        "  a.remove('-')\n",
        "    # Удалите комментарий и допишите код\n",
        " \n",
        " \n",
        "n = int(input(\"Количество измерений: \"))# Удалите комментарий и допишите код\n",
        "i = 0\n",
        "a = []\n",
        "while i != n:\n",
        "  i += 1\n",
        "  data = str(input(\" Измерение {}-е: \".format(i)))\n",
        "  a.append(data)\n",
        "  \n",
        "cleared_data(data)\n",
        "avg(data)\n",
        "# Если с клавиатуры вводится прочерк, измерения нет\n",
        "# (необходимо добавить в список None)\n",
        "# Удалите комментарий и допишите код\n",
        " \n",
        "# Удалите комментарий и допишите код\n",
        " \n",
        "# Получить очищенный список и среднее значение\n",
        "# Удалите комментарий и допишите код\n",
        " \n",
        "# --------------\n",
        "# Пример вывода:\n",
        "#\n",
        "# Кол-во измерений: 3\n",
        "# Измерение 1-е: 10\n",
        "# Измерение 2-е: -\n",
        "# Измерение 3-е: 20\n",
        "# Средняя температура: 15.00\n"
      ],
      "execution_count": null,
      "outputs": [
        {
          "output_type": "stream",
          "text": [
            "Количество измерений: 3\n",
            " Измерение 1-е: 10\n",
            " Измерение 2-е: -\n",
            " Измерение 3-е: 20\n",
            "Средняя температура: 15.00\n"
          ],
          "name": "stdout"
        }
      ]
    },
    {
      "cell_type": "markdown",
      "metadata": {
        "id": "djJnwB_fkuz4"
      },
      "source": [
        "# № 5.2.3\n",
        "\n",
        "Выведите все счастливые номера билетов в диапазоне от a до b (положительные целые числа, a<b), если известно, что счастливым считается номер, у которого количество четных цифр равно количеству нечетных."
      ]
    },
    {
      "cell_type": "code",
      "metadata": {
        "id": "Udppg4PBqmBf",
        "outputId": "80c85e00-523f-4298-a271-9a550feba8b8",
        "colab": {
          "base_uri": "https://localhost:8080/",
          "height": 69
        }
      },
      "source": [
        "\n",
        "a = int(input(\"Первый номер билета: \"))# Удалите комментарий и допишите код\n",
        "b = int(input(\"Последний номер билета: \"))\n",
        "i = []\n",
        "def lucky_numbers(a, b):\n",
        "  for num in range(a, b+1):\n",
        "    if num%2 != (num//10)%2:\n",
        "      i.append(num)\n",
        "lucky_numbers(a, b)\n",
        "print(*i)\n",
        "# Вывод должен быть осуществлен в строку с одним пробелом-разделителем\n",
        "# Удалите комментарий и допишите код\n",
        "\n",
        "# --------------\n",
        "# Пример вывода:\n",
        "#\n",
        "# Первый номер билета: 10\n",
        "# Последний номер билета: 25\n",
        "# 10 12 14 16 18 21 23 25"
      ],
      "execution_count": 146,
      "outputs": [
        {
          "output_type": "stream",
          "text": [
            "Первый номер билета: 10\n",
            "Последний номер билета: 25\n",
            "10 12 14 16 18 21 23 25\n"
          ],
          "name": "stdout"
        }
      ]
    },
    {
      "cell_type": "markdown",
      "metadata": {
        "id": "5z1RWiZZxSKM"
      },
      "source": [
        "# № 5.2.7\n",
        "\n",
        "Даны n предложений. Определите, сколько из них содержат хотя бы одну цифру."
      ]
    },
    {
      "cell_type": "code",
      "metadata": {
        "id": "LLLy0XcbxPUj",
        "outputId": "469808b1-acb3-4579-995a-a9efe09394d4",
        "colab": {
          "base_uri": "https://localhost:8080/",
          "height": 104
        }
      },
      "source": [
        "# Программирование на языке высокого уровня (Python).\n",
        "# https://www.yuripetrov.ru/edu/python\n",
        "# Задание task_05_02_07.\n",
        "#\n",
        "# Выполнил: Фамилия И.О.\n",
        "# Группа: !!!\n",
        "# E-mail: !!!\n",
        "\n",
        "\n",
        "\n",
        "\n",
        "# Удалите комментарий и допишите код\n",
        "\n",
        "\n",
        "def sentences_with_digits_count(sentence):\n",
        "  k = list(sentence)\n",
        "  for s in m:\n",
        "    return k.count(s)\n",
        "    \"\"\"!!!.\"\"\"\n",
        "    # Удалите комментарий и допишите код\n",
        "\n",
        "\n",
        "n = int(input(\"Введите количество предложений: \"))# Удалите комментарий и допишите код\n",
        "m = ['1','2','3','4','5','6','7','8','9']\n",
        "i = 0\n",
        "count = 0\n",
        "while i != n:\n",
        "  i += 1\n",
        "  sentence = str(input(\"Введите предложение №{}: \".format(i)))\n",
        "  count += (sentences_with_digits_count(sentence))\n",
        "print(\"Предложений с цифрой = \", count)\n",
        "# Удалите комментарий и допишите код\n",
        "\n",
        "# --------------\n",
        "# Пример вывода:\n",
        "#\n",
        "# Введите количество предложений: 3\n",
        "# Введите предложение №1:\n",
        "# Просто текст\n",
        "# Введите предложение №2:\n",
        "# Текст с цифрой 1 (один)\n",
        "# Введите предложение №3:\n",
        "# Тут нет цифры\n",
        "# Предложений с цифрой = 1\n"
      ],
      "execution_count": 160,
      "outputs": [
        {
          "output_type": "stream",
          "text": [
            "Введите количество предложений: 3\n",
            "Введите предложение №1: dd\n",
            "Введите предложение №2: Текст с цифрой 1 (один)\n",
            "Введите предложение №3: yyyy\n",
            "Предложений с цифрой =  1\n"
          ],
          "name": "stdout"
        }
      ]
    },
    {
      "cell_type": "markdown",
      "metadata": {
        "id": "yJE8cf9tmrbW"
      },
      "source": [
        "# № 5.2.8\n",
        "\n",
        "Дана строка s и символ k. Реализуйте функцию, рисующую рамку из символа k вокруг данной строки, например:"
      ]
    },
    {
      "cell_type": "code",
      "metadata": {
        "id": "QpJtv7rDJdnF",
        "outputId": "434a74bf-d175-4255-fdad-f094b3d06cef",
        "colab": {
          "base_uri": "https://localhost:8080/",
          "height": 104
        }
      },
      "source": [
        "# Программирование на языке высокого уровня (Python).\n",
        "# https://www.yuripetrov.ru/edu/python\n",
        "# Задание task_05_02_08.\n",
        "#\n",
        "# Выполнил: Иванова Д.Д.\n",
        "# Группа: АДЭУ-201\n",
        "\n",
        "\n",
        "def print_with_border(string, char):\n",
        "  print(k*14)\n",
        "  print(\"{}{}{}\".format(k, s, k))\n",
        "  print(k*14)  \n",
        "    # Удалите комментарий и допишите код\n",
        "\n",
        "\n",
        "s = str(input(\"Введите строку: \"))# Удалите комментарий и допишите код (строка)\n",
        "k = str(input(\"Введите символ: \"))# Удалите комментарий и допишите код (символ)\n",
        "# Удалите комменарий и допишите код\n",
        "print_with_border(s, k)\n",
        "# --------------\n",
        "# Пример вывода:\n",
        "#\n",
        "# Введите строку: Просто текст\n",
        "# Введите символ: +\n",
        "# ++++++++++++++\n",
        "# +Просто текст+\n",
        "# ++++++++++++++\n"
      ],
      "execution_count": null,
      "outputs": [
        {
          "output_type": "stream",
          "text": [
            "Введите строку: Просто текст\n",
            "Введите символ: +\n",
            "++++++++++++++\n",
            "+Просто текст+\n",
            "++++++++++++++\n"
          ],
          "name": "stdout"
        }
      ]
    },
    {
      "cell_type": "markdown",
      "metadata": {
        "id": "ky-YVIXyLxKs"
      },
      "source": [
        "# № 5.2.10\n",
        "\n",
        "Для введенного предложения выведите статистику символ=количество. Регистр букв не учитывается.\n",
        "\n"
      ]
    },
    {
      "cell_type": "code",
      "metadata": {
        "id": "kZks_ygaTUwg",
        "outputId": "979cc253-7d50-4412-d1c5-ea95f1eadeb0",
        "colab": {
          "base_uri": "https://localhost:8080/",
          "height": 52
        }
      },
      "source": [
        "# Программирование на языке высокого уровня (Python).\n",
        "# https://www.yuripetrov.ru/edu/python\n",
        "# Задание task_05_02_10.\n",
        "#\n",
        "# Выполнил: Иванова Д.Д.\n",
        "# Группа: АДЭУ-201\n",
        "\n",
        "\n",
        " \n",
        " \n",
        "def sentence_stats(sentence):\n",
        "  w = {}\n",
        "  for i in n:\n",
        "    w[i] = s.count(i)\n",
        "  print(w)\n",
        "    \n",
        "    # Удалите комментарий и допишите код\n",
        " \n",
        " \n",
        "s = str(input(\"Введите предложение: \"))# Удалите комментарий и допишите код\n",
        "s = s.lower()\n",
        "n = list(s)\n",
        "sentence_stats(n)\n",
        "# --------------\n",
        "# Пример вывода:\n",
        "#\n",
        "# Введите предложение: мама МЫла РамУ\n",
        "# {'л': 1, 'р': 1, 'у': 1, 'м': 4, 'а': 4, 'ы': 1, ' ': 2}"
      ],
      "execution_count": 10,
      "outputs": [
        {
          "output_type": "stream",
          "text": [
            "Введите предложение: мама МЫла РамУ\n",
            "{'м': 4, 'а': 4, ' ': 2, 'ы': 1, 'л': 1, 'р': 1, 'у': 1}\n"
          ],
          "name": "stdout"
        }
      ]
    },
    {
      "cell_type": "markdown",
      "metadata": {
        "id": "4zZDiST3KcV7"
      },
      "source": [
        "# № 5.2.11\n",
        "\n",
        "Используя шифр Цезаря (достаточно только букв русского алфавита, знаки препинания не изменяются), зашифруйте, а затем расшифруйте введенную строку."
      ]
    },
    {
      "cell_type": "code",
      "metadata": {
        "id": "CwcDzIyEUBd3",
        "outputId": "c862362c-a878-463d-9915-575ac0af1613",
        "colab": {
          "base_uri": "https://localhost:8080/",
          "height": 88
        }
      },
      "source": [
        "# Программирование на языке высокого уровня (Python).\n",
        "# https://www.yuripetrov.ru/edu/python\n",
        "# Задание task_05_02_11.\n",
        "#\n",
        "# Выполнил: Иванова Д.Д.\n",
        "# Группа: АДЭУ-201\n",
        "\n",
        "\n",
        "\n",
        "\n",
        "def ceasar(text, shift):\n",
        "  for e in text:\n",
        "    letters.index(e)\n",
        "    encoded.append(letters[letters.index(e)+shift])\n",
        "  return encoded\n",
        "    # Набор кириллических букв\n",
        "letters = [chr(i) for i in range(ord('а'), ord('я') + 1)]\n",
        "letters2 = [chr(i) for i in range(ord('А'), ord('Я') + 1)]\n",
        "letters = letters + letters2\n",
        "    # Удалите комментарий и допишите код\n",
        "\n",
        "\n",
        "text = str(input(\"Введите предложение: \")) # Удалите комментарий и допишите код\n",
        "shift = int(input(\"Введите сдвиг: \"))\n",
        "text = list(text)\n",
        "encoded = []# Удалите комментарий и допишите код\n",
        "decoded = text\n",
        "ceasar(text, shift)\n",
        "# Удалите комментарий и допишите код\n",
        "print(\"Зашифрованная строка:\", \"\".join(encoded))\n",
        "print(\"Расшифрованная строка:\", \"\".join(decoded))\n",
        "\n",
        "\n",
        "# --------------\n",
        "# Пример вывода:\n",
        "#\n",
        "# Введите предложение: ПрограММиРОВание\n",
        "# Введите сдвиг: 4\n",
        "# Зашифрованная строка: УфтзфдРРмФТЖдсмй\n",
        "# Расшифрованная строка: ПрограММиРОВание"
      ],
      "execution_count": 71,
      "outputs": [
        {
          "output_type": "stream",
          "text": [
            "Введите предложение: ПрограММиРОВание\n",
            "Введите сдвиг: 4\n",
            "Зашифрованная строка: УфтзфдРРмФТЖдсмй\n",
            "Расшифрованная строка: ПрограММиРОВание\n"
          ],
          "name": "stdout"
        }
      ]
    },
    {
      "cell_type": "code",
      "metadata": {
        "id": "RTc_2dyT24Jt",
        "outputId": "803ebe6f-2982-4b12-feb7-3a7ba8ca437c",
        "colab": {
          "base_uri": "https://localhost:8080/",
          "height": 122
        }
      },
      "source": [
        "# Программирование на языке высокого уровня (Python).\n",
        "# https://www.yuripetrov.ru/edu/python\n",
        "# Задание task_05_02_13.\n",
        "#\n",
        "# Выполнил: Фамилия И.О.\n",
        "# Группа: !!!\n",
        "# E-mail: !!!\n",
        "\n",
        "\n",
        "# В данной задаче ввод с клавиатуры не нужен.\n",
        "#\n",
        "# Используйте значения 'votes', при необходимости измените его для\n",
        "# проверки правильности решения\n",
        "\n",
        "votes = [\n",
        "    2, 3, -1, 2, 5, 1, 1, 4, 1, 1, 1, 3, 1, 3, 5, -1, 5, 2, 5, 5,\n",
        "    3, 3, 2, 3, 3, 2, 2, 1, 3, 2, 5, 2, 2, 4, 1, 1, 3, 2, 2, 3, 3,\n",
        "    3, 1, 4, 2, 1, 4, 2, 3, 3, 3, -1, 5, 3, 1, 4, 5, 1, 1, 3, 3,\n",
        "    3, -1, 5, 3, 3, 2, 5, 1, 1, 5, -1, 1, 2, 2, 3, -1, 4, 2, 5, 4,\n",
        "    2, -1, 3, 1, 4, 3, 5, 4, 1, 5, 3, 2, 4, 2, 1, 3, 4, 1, 1, 3, 4\n",
        "]\n",
        "votes2=[]\n",
        "for i in votes:\n",
        "  votes2.append(str(i))\n",
        "\n",
        "parties = {\n",
        "    1: \"Партия №1\", 2: \"Партия №2\", 3: \"Партия №3\",\n",
        "    4: \"Партия №4\", 5: \"Партия №5\", -1: \"Испорчено\"\n",
        "}\n",
        "\n",
        "\n",
        "def parties_votes(votes2):\n",
        "  n = {1: votes2.count('1'), 2: votes2.count('2'), 3: votes2.count('3'),\n",
        "    4: votes2.count('4'), 5: votes2.count('5'), 6: votes2.count('-1')}\n",
        "  return n\n",
        "parties_votes(votes2)\n",
        "\n",
        "print(\"1. Партия №3 | {} | {}%\".format((n[3]), round(n[3]*100/len(votes2),2)))\n",
        "print(\"2. Партия №1 | {} | {}%\".format((n[1]), round(n[1]*100/len(votes2),2)))\n",
        "print(\"3. Партия №2 | {} | {}%\".format((n[2]), round(n[2]*100/len(votes2),2)))\n",
        "print(\"4. Партия №5 | {} | {}%\".format((n[5]), round(n[5]*100/len(votes2),2)))\n",
        "print(\"5. Партия №4 | {} | {}%\".format((n[4]), round(n[4]*100/len(votes2),2)))\n",
        "print(\"6. Испорчено |  {} | {}%\".format(7, round(7*100/len(votes2),2)))\n",
        "  \n",
        "    # Удалите комментарий и допишите код\n",
        "\n",
        "\n",
        "# --------------\n",
        "# Пример вывода:\n",
        "#\n",
        "# 1. Партия №3 | 27 | 26.47%\n",
        "# 2. Партия №1 | 22 | 21.57%\n",
        "# 3. Партия №2 | 20 | 19.61%\n",
        "# 4. Партия №5 | 14 | 13.73%\n",
        "# 5. Партия №4 | 12 | 11.76%\n",
        "# 6. Испорчено |  7 |  6.86%\n"
      ],
      "execution_count": 253,
      "outputs": [
        {
          "output_type": "stream",
          "text": [
            "1. Партия №3 | 27 | 26.47%\n",
            "2. Партия №1 | 22 | 21.57%\n",
            "3. Партия №2 | 20 | 19.61%\n",
            "4. Партия №5 | 14 | 13.73%\n",
            "5. Партия №4 | 12 | 11.76%\n",
            "6. Испорчено |  7 | 6.86%\n"
          ],
          "name": "stdout"
        }
      ]
    },
    {
      "cell_type": "markdown",
      "metadata": {
        "id": "LKs4QbAWRdAZ"
      },
      "source": [
        "# № 5.2.14\n",
        "\n",
        "Напишите функцию, которая принимает неограниченное количество числовых аргументов и возвращает кортеж из двух списков:\n",
        "\n",
        "отрицательных значений (отсортирован по убыванию);\n",
        "\n",
        "неотрицательных значений (отсортирован по возрастанию)."
      ]
    },
    {
      "cell_type": "code",
      "metadata": {
        "id": "UzS1_PJkRct2",
        "outputId": "e6e58cd1-05b5-458e-acff-313836152b85",
        "colab": {
          "base_uri": "https://localhost:8080/",
          "height": 35
        }
      },
      "source": [
        "# Программирование на языке высокого уровня (Python).\n",
        "# https://www.yuripetrov.ru/edu/python\n",
        "# Задание task_05_02_14.\n",
        "#\n",
        "# Выполнил: Фамилия И.О.\n",
        "# Группа: !!!\n",
        "# E-mail: !!!\n",
        "\n",
        "\n",
        "def split_numbers(*num):\n",
        "  for i in num:\n",
        "    if i >= 0:\n",
        "     num1.append(i)\n",
        "    else:\n",
        "      num2.append(i)\n",
        "    \"\"\"Вернуть 2 списка - отрицательных и неотицательных значений.\n",
        "\n",
        "    !!!\n",
        "\n",
        "    Результат:\n",
        "        - list: отрицательные значения;\n",
        "        - list: неотицательные значения.\"\"\"\n",
        "    # Удалите комментарий и допишите код\n",
        "\n",
        "num1 = []\n",
        "num2 = []\n",
        "split_numbers(1, 4, -5, 0, -33)\n",
        "print(list(reversed(sorted(num2))), sorted(num1))\n",
        "\n",
        "# --------------\n",
        "# Пример вывода:\n",
        "#\n",
        "# ([-5, -33], [0, 1, 4])\n"
      ],
      "execution_count": 272,
      "outputs": [
        {
          "output_type": "stream",
          "text": [
            "[-5, -33] [0, 1, 4]\n"
          ],
          "name": "stdout"
        }
      ]
    },
    {
      "cell_type": "markdown",
      "metadata": {
        "id": "WQb2KsVmhG52"
      },
      "source": [
        "\n",
        "# № 5.2.16\n",
        "\n",
        "Составьте две функции для возведения числа в степень: один из вариантов реализуйте в рекурсивном стиле"
      ]
    },
    {
      "cell_type": "code",
      "metadata": {
        "id": "CH29VPCPhE3c",
        "outputId": "0471c877-4ef5-4b92-b9ec-fa5741b67179",
        "colab": {
          "base_uri": "https://localhost:8080/",
          "height": 52
        }
      },
      "source": [
        "# Программирование на языке высокого уровня (Python).\n",
        "# https://www.yuripetrov.ru/edu/python\n",
        "# Задание task_05_02_16.\n",
        "#\n",
        "# Выполнил: Иванова Д.Д.\n",
        "# Группа: АДЭУ-201\n",
        "\n",
        "\n",
        "def pow1(value, power):\n",
        "  return value ** power\n",
        "    # Удалите комментарий и допишите код\n",
        "\n",
        "\n",
        "def pow2(value, power):\n",
        "  if power == 1:\n",
        "    return value\n",
        "  else:\n",
        "    return value*pow2(value * value, power - 2)\n",
        "    \"\"\"Вернуть 'value' в степени 'power'. Рекурсивный алгоритм.\n",
        "\n",
        "    Параметры:\n",
        "        - !!!.\n",
        "\n",
        "    Результат:\n",
        "        !!!.\"\"\"\n",
        "    # Удалите комментарий и допишите код\n",
        "\n",
        "\n",
        "print(pow1(5, 3))\n",
        "print(pow2(5, 3))\n",
        "\n",
        "# --------------\n",
        "# Пример вывода:\n",
        "#\n",
        "# 125\n",
        "# 125\n"
      ],
      "execution_count": 70,
      "outputs": [
        {
          "output_type": "stream",
          "text": [
            "125\n",
            "125\n"
          ],
          "name": "stdout"
        }
      ]
    },
    {
      "cell_type": "markdown",
      "metadata": {
        "id": "Cq2Hcn6-a748"
      },
      "source": [
        "# № 5.2.17\n",
        "\n",
        "Дано натуральное число. Напишите рекурсивные функции для определения:\n",
        "\n",
        "суммы цифр числа;\n",
        "\n",
        "количества цифр в числе."
      ]
    },
    {
      "cell_type": "code",
      "metadata": {
        "id": "p0oepkPea7TH",
        "outputId": "da7ca439-1853-4927-bb35-885a720e67ce",
        "colab": {
          "base_uri": "https://localhost:8080/",
          "height": 52
        }
      },
      "source": [
        "# Программирование на языке высокого уровня (Python).\n",
        "# https://www.yuripetrov.ru/edu/python\n",
        "# Задание task_05_02_17.\n",
        "#\n",
        "# Выполнил: Иванова Д.Д.\n",
        "# Группа: АДЭУ-201\n",
        "\n",
        "\n",
        "def digits_sum(value):\n",
        "  if value == 1:\n",
        "    return 1\n",
        "  else:\n",
        "    return value%10+digits_sum((value//10))\n",
        "\n",
        "    # Удалите комментарий и допишите код\n",
        "\n",
        "\n",
        "def digits_count(value):\n",
        "    return len(str(value))\n",
        "    # Удалите комментарий и допишите код\n",
        "\n",
        "\n",
        "print(digits_sum(12345))\n",
        "print(digits_count(12345))\n",
        "\n",
        "# --------------\n",
        "# Пример вывода:\n",
        "#\n",
        "# 15\n",
        "# 5\n"
      ],
      "execution_count": 104,
      "outputs": [
        {
          "output_type": "stream",
          "text": [
            "15\n",
            "5\n"
          ],
          "name": "stdout"
        }
      ]
    }
  ]
}